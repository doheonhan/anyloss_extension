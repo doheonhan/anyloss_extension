{
 "cells": [
  {
   "cell_type": "code",
   "execution_count": 3,
   "id": "79042d7a",
   "metadata": {},
   "outputs": [],
   "source": [
    "s = 1e-5\n",
    "\n",
    "import pandas as pd\n",
    "from sklearn import metrics\n",
    "import tensorflow as tf\n",
    "################################ MSE ################################\n",
    "def MSE(y_true, y_pred):\n",
    "    return tf.reduce_mean(tf.math.square(y_true-y_pred))\n",
    "\n",
    "################################ BCE ################################\n",
    "def BCE(y_true, y_pred):\n",
    "    return -tf.reduce_mean(y_true*tf.math.log(y_pred+s)+(1-y_true)*tf.math.log(1-y_pred+s))\n",
    "\n",
    "################################ WBCE ################################\n",
    "def WBCE(y_true, y_pred):\n",
    "    N = batch    # batch_size\n",
    "    y1 = tf.reduce_sum(y_true)\n",
    "    y0 = N-y1\n",
    "    w1 = y0/N #N/y1\n",
    "    w0 = y1/N #N/y0\n",
    "    return -tf.reduce_mean(w1*y_true*tf.math.log(y_pred+s)+w0*(1-y_true)*tf.math.log(1-y_pred+s))\n",
    "\n",
    "################################ TN/FP/FN/TP ################################\n",
    "def confusion_matrix(y_true, y_pred):\n",
    "    N = batch    # batch_size\n",
    "    y1 = tf.reduce_sum(y_true)\n",
    "    y0 = N-y1\n",
    "    TN = N-tf.reduce_sum(y_true)-tf.reduce_sum(y_pred)+tf.reduce_sum(y_true*y_pred)\n",
    "    FP = tf.reduce_sum(y_pred)-tf.reduce_sum(y_true*y_pred)\n",
    "    FN = tf.reduce_sum(y_true)-tf.reduce_sum(y_true*y_pred)\n",
    "    TP = tf.reduce_sum(y_true*y_pred)\n",
    "    return N, y1, y0, TN, FP, FN, TP\n",
    "\n",
    "################################ make_lists ################################\n",
    "def make_lists():\n",
    "    list_acc = []\n",
    "    list_f1 = []\n",
    "    list_gmean = []\n",
    "    list_bacc = []\n",
    "    list_pre = []\n",
    "    list_rec = []\n",
    "    list_spe = []\n",
    "    return list_acc, list_f1, list_gmean, list_bacc, list_pre, list_rec, list_spe\n",
    "    \n",
    "############################### Results ###############################\n",
    "def get_results(y_true, y_pred):\n",
    "    TN = metrics.confusion_matrix(y_true, y_pred)[0,0]\n",
    "    FP = metrics.confusion_matrix(y_true, y_pred)[0,1]\n",
    "    FN = metrics.confusion_matrix(y_true, y_pred)[1,0]\n",
    "    TP = metrics.confusion_matrix(y_true, y_pred)[1,1]\n",
    "    acc = np.round((TP+TN)/(TP+TN+FP+FN),4)\n",
    "    if TP+FP == 0:\n",
    "        pre = 0\n",
    "    else:\n",
    "        pre = np.round(TP/(TP+FP),4)\n",
    "    rec = np.round(TP/(TP+FN),4)\n",
    "    spe = np.round(TN/(TN+FP),4)\n",
    "    f1 = np.round(TP/(TP + 0.5*(FP+FN)),4)\n",
    "    f05 = np.round(TP/(TP + 0.8*FP + 0.2*FN),4)\n",
    "    f2 = np.round(TP/(TP + 0.2*FP + 0.8*FN),4)\n",
    "    gmean = np.round(((TP/(TP+FN)) * (TN/(TN+FP)))**0.5,4)\n",
    "    bacc = np.round(0.5*(TP/(TP+FN) + TN/(TN+FP)),4)\n",
    "    \n",
    "    list_acc.append(acc)\n",
    "    list_f1.append(f1)\n",
    "    list_gmean.append(gmean)\n",
    "    list_bacc.append(bacc)\n",
    "    list_pre.append(pre)\n",
    "    list_rec.append(rec)\n",
    "    list_spe.append(spe)\n",
    "\n",
    "################################ SPL ################################\n",
    "def splitter(y_pred):\n",
    "    return (0.5)**2-(y_pred-0.5)**2\n",
    "\n",
    "# =================================== Fbeta =================================== #\n",
    "################################ Pure_Fbeta ################################\n",
    "def Pure_Fbeta(y_true, y_pred):\n",
    "    b = 1 \n",
    "    N, y1, y0, TN, FP, FN, TP = confusion_matrix(y_true, y_pred)\n",
    "    F_beta = ((1+b**2)*TP) / ((b**2)*y1 + tf.reduce_sum(y_pred)+s)  # (1+b**2)TP/((1+b**2)TP+FP+b**2FN)\n",
    "    return 1-F_beta\n",
    "\n",
    "################################ Any_Fbeta ################################\n",
    "def Any_Fbeta(y_true, y_pred):\n",
    "    b = 1 \n",
    "    y_pred = 1/(1+tf.math.exp(-L*(y_pred-0.5)))\n",
    "    N, y1, y0, TN, FP, FN, TP = confusion_matrix(y_true, y_pred)\n",
    "    F_beta = ((1+b**2)*TP) / ((b**2)*y1 + tf.reduce_sum(y_pred)+s)  # (1+b**2)TP/((1+b**2)TP+FP+b**2FN)\n",
    "    return 1-F_beta\n",
    "\n",
    "################################ WBCEFL ################################\n",
    "def WBCEFL(y_true, y_pred):\n",
    "    b = 1\n",
    "    WBCEloss = WBCE(y_true, y_pred)\n",
    "    N, y1, y0, TN, FP, FN, TP = confusion_matrix(y_true, y_pred)\n",
    "    F_beta = ((1+b**2)*TP) / ((b**2)*y1 + tf.reduce_sum(y_pred)+s)  # (1+b**2)TP/((1+b**2)TP+FP+b**2FN)\n",
    "    return (1-r)*WBCEloss+(r)*(1-F_beta)\n",
    "\n",
    "################################ SPLFL ################################\n",
    "def SPLFL(y_true, y_pred):\n",
    "    b = 1\n",
    "    SPL = splitter(y_pred)\n",
    "    N, y1, y0, TN, FP, FN, TP = confusion_matrix(y_true, y_pred)\n",
    "    F_beta = ((1+b**2)*TP) / ((b**2)*y1 + tf.reduce_sum(y_pred)+s)  # (1+b**2)TP/((1+b**2)TP+FP+b**2FN)\n",
    "    return (1-w)*SPL+(w)*(1-F_beta)\n",
    "\n",
    "# =================================== Gmean =================================== #\n",
    "################################ Pure_Gmean ################################\n",
    "def Pure_Gmean(y_true, y_pred):\n",
    "    N, y1, y0, TN, FP, FN, TP = confusion_matrix(y_true, y_pred)\n",
    "    sur_gmean = (TP*TN)/(y1*y0+s)\n",
    "    return 1-sur_gmean\n",
    "\n",
    "################################ Any_Gmean ################################\n",
    "def Any_Gmean(y_true, y_pred):\n",
    "    y_pred = 1/(1+tf.math.exp(-L*(y_pred-0.5)))\n",
    "    N, y1, y0, TN, FP, FN, TP = confusion_matrix(y_true, y_pred)\n",
    "    sur_gmean = (TP*TN)/(y1*y0+s)\n",
    "    return 1-sur_gmean\n",
    "\n",
    "################################ WBCEGL ################################\n",
    "def WBCEGL(y_true, y_pred):\n",
    "    WBCEloss = WBCE(y_true, y_pred)\n",
    "    N, y1, y0, TN, FP, FN, TP = confusion_matrix(y_true, y_pred)\n",
    "    sur_gmean = (TP*TN)/(y1*y0+s)\n",
    "    return (1-r)*WBCEloss+(r)*(1-sur_gmean)\n",
    "\n",
    "################################ SPLGL ################################\n",
    "def SPLGL(y_true, y_pred):\n",
    "    SPL = splitter(y_pred)\n",
    "    N, y1, y0, TN, FP, FN, TP = confusion_matrix(y_true, y_pred)\n",
    "    sur_gmean = (TP*TN)/(y1*y0+s)\n",
    "    return (1-w)*SPL+(w)*(1-sur_gmean)\n",
    "\n",
    "# =================================== BAccu =================================== #\n",
    "################################ Pure_BAccu ################################\n",
    "def Pure_BAccu(y_true, y_pred):\n",
    "    N, y1, y0, TN, FP, FN, TP = confusion_matrix(y_true, y_pred)\n",
    "    baccu = (y0*TP+y1*TN) / (2*y1*y0+s)\n",
    "    return 1-baccu\n",
    "\n",
    "################################ Any_BAccu ################################\n",
    "def Any_BAccu(y_true, y_pred):\n",
    "    y_pred = 1/(1+tf.math.exp(-L*(y_pred-0.5)))\n",
    "    N, y1, y0, TN, FP, FN, TP = confusion_matrix(y_true, y_pred)\n",
    "    baccu = (y0*TP+y1*TN) / (2*y1*y0+s)\n",
    "    return 1-baccu\n",
    "\n",
    "################################ WBCEBL ################################\n",
    "def WBCEBL(y_true, y_pred):\n",
    "    WBCEloss = WBCE(y_true, y_pred)\n",
    "    N, y1, y0, TN, FP, FN, TP = confusion_matrix(y_true, y_pred)\n",
    "    baccu = (y0*TP+y1*TN) / (2*y1*y0+s)\n",
    "    return (1-r)*WBCEloss+(r)*(1-baccu)\n",
    "\n",
    "################################ SPLBL ################################\n",
    "def SPLBL(y_true, y_pred):\n",
    "    SPL = splitter(y_pred)\n",
    "    N, y1, y0, TN, FP, FN, TP = confusion_matrix(y_true, y_pred)\n",
    "    baccu = (y0*TP+y1*TN) / (2*y1*y0+s)\n",
    "    return (1-w)*SPL+(w)*(1-baccu)"
   ]
  },
  {
   "cell_type": "code",
   "execution_count": null,
   "id": "7ae0de84",
   "metadata": {},
   "outputs": [],
   "source": [
    "res = pd.DataFrame({'MSE':[0, 0, 0, 0, 0, 0, 0]}, index = ['Acc','F1','G_Mean','B_Acc','Pre','Rec','Spe'])\n",
    "res"
   ]
  },
  {
   "cell_type": "markdown",
   "id": "cfd00885",
   "metadata": {},
   "source": [
    "# Step1: Select One Dataset"
   ]
  },
  {
   "cell_type": "code",
   "execution_count": null,
   "id": "c85010a5",
   "metadata": {},
   "outputs": [],
   "source": []
  },
  {
   "cell_type": "markdown",
   "id": "c8f9bd17",
   "metadata": {},
   "source": [
    "## 1)MNIST_784"
   ]
  },
  {
   "cell_type": "code",
   "execution_count": 4,
   "id": "d5d14b47",
   "metadata": {},
   "outputs": [
    {
     "name": "stdout",
     "output_type": "stream",
     "text": [
      "(10000, 28, 28) (10000,)\n"
     ]
    }
   ],
   "source": [
    "from keras.datasets.mnist import load_data\n",
    "\n",
    "(X_train, y_train), (X_test, y_test) = load_data()\n",
    "print(X_test.shape, y_test.shape)"
   ]
  },
  {
   "cell_type": "code",
   "execution_count": 5,
   "id": "0be96cdc",
   "metadata": {},
   "outputs": [
    {
     "data": {
      "image/png": "[encoded data removed]",
      "text/plain": [
       "<Figure size 360x360 with 9 Axes>"
      ]
     },
     "metadata": {},
     "output_type": "display_data"
    }
   ],
   "source": [
    "import matplotlib.pyplot as plt\n",
    "import numpy as np\n",
    "np.random.seed(0)\n",
    "\n",
    "class_names = ['0', '1', '2', '3', '4', '5', '6', '7','8','9']\n",
    "sample_size = 9\n",
    "random_idx = np.random.randint(10000, size=sample_size)\n",
    "\n",
    "plt.figure(figsize=(5,5))\n",
    "for i, idx in enumerate(random_idx):\n",
    "    plt.subplot(3,3,i+1)\n",
    "    plt.xticks([])\n",
    "    plt.yticks([])\n",
    "    plt.imshow(X_test[idx], cmap='gray')\n",
    "    plt.xlabel(class_names[y_test[idx]])\n",
    "plt.show()"
   ]
  },
  {
   "cell_type": "code",
   "execution_count": 6,
   "id": "510a332d",
   "metadata": {},
   "outputs": [
    {
     "data": {
      "text/plain": [
       "(10000, 28, 28, 3)"
      ]
     },
     "execution_count": 6,
     "metadata": {},
     "output_type": "execute_result"
    }
   ],
   "source": [
    "X_test = np.repeat(X_test[..., np.newaxis], 3, -1)\n",
    "X_test.shape"
   ]
  },
  {
   "cell_type": "code",
   "execution_count": 7,
   "id": "9604b55d",
   "metadata": {
    "scrolled": true
   },
   "outputs": [
    {
     "data": {
      "image/png": "[encoded data removed]",
      "text/plain": [
       "<Figure size 432x288 with 1 Axes>"
      ]
     },
     "metadata": {
      "needs_background": "light"
     },
     "output_type": "display_data"
    },
    {
     "name": "stdout",
     "output_type": "stream",
     "text": [
      "7 7\n"
     ]
    },
    {
     "data": {
      "image/png": "[encoded data removed]",
      "text/plain": [
       "<Figure size 432x288 with 1 Axes>"
      ]
     },
     "metadata": {
      "needs_background": "light"
     },
     "output_type": "display_data"
    },
    {
     "name": "stdout",
     "output_type": "stream",
     "text": [
      "2 2\n"
     ]
    },
    {
     "data": {
      "image/png": "[encoded data removed]",
      "text/plain": [
       "<Figure size 432x288 with 1 Axes>"
      ]
     },
     "metadata": {
      "needs_background": "light"
     },
     "output_type": "display_data"
    },
    {
     "name": "stdout",
     "output_type": "stream",
     "text": [
      "1 1\n"
     ]
    },
    {
     "data": {
      "image/png": "[encoded data removed]",
      "text/plain": [
       "<Figure size 432x288 with 1 Axes>"
      ]
     },
     "metadata": {
      "needs_background": "light"
     },
     "output_type": "display_data"
    },
    {
     "name": "stdout",
     "output_type": "stream",
     "text": [
      "0 0\n"
     ]
    },
    {
     "data": {
      "image/png": "[encoded data removed]",
      "text/plain": [
       "<Figure size 432x288 with 1 Axes>"
      ]
     },
     "metadata": {
      "needs_background": "light"
     },
     "output_type": "display_data"
    },
    {
     "name": "stdout",
     "output_type": "stream",
     "text": [
      "4 4\n"
     ]
    },
    {
     "data": {
      "image/png": "[encoded data removed]",
      "text/plain": [
       "<Figure size 432x288 with 1 Axes>"
      ]
     },
     "metadata": {
      "needs_background": "light"
     },
     "output_type": "display_data"
    },
    {
     "name": "stdout",
     "output_type": "stream",
     "text": [
      "9 9\n"
     ]
    },
    {
     "data": {
      "image/png": "[encoded data removed]",
      "text/plain": [
       "<Figure size 432x288 with 1 Axes>"
      ]
     },
     "metadata": {
      "needs_background": "light"
     },
     "output_type": "display_data"
    },
    {
     "name": "stdout",
     "output_type": "stream",
     "text": [
      "5 5\n"
     ]
    },
    {
     "data": {
      "image/png": "[encoded data removed]",
      "text/plain": [
       "<Figure size 432x288 with 1 Axes>"
      ]
     },
     "metadata": {
      "needs_background": "light"
     },
     "output_type": "display_data"
    },
    {
     "name": "stdout",
     "output_type": "stream",
     "text": [
      "6 6\n"
     ]
    },
    {
     "data": {
      "image/png": "[encoded data removed]",
      "text/plain": [
       "<Figure size 432x288 with 1 Axes>"
      ]
     },
     "metadata": {
      "needs_background": "light"
     },
     "output_type": "display_data"
    },
    {
     "name": "stdout",
     "output_type": "stream",
     "text": [
      "3 3\n"
     ]
    },
    {
     "data": {
      "image/png": "[encoded data removed]",
      "text/plain": [
       "<Figure size 432x288 with 1 Axes>"
      ]
     },
     "metadata": {
      "needs_background": "light"
     },
     "output_type": "display_data"
    },
    {
     "name": "stdout",
     "output_type": "stream",
     "text": [
      "8 8\n"
     ]
    }
   ],
   "source": [
    "import matplotlib as mpl\n",
    "import matplotlib.pyplot as plt\n",
    "import numpy as np\n",
    "\n",
    "class_names = ['0', '1', '2', '3', '4', '5', '6', '7','8','9']\n",
    "y_list = []\n",
    "\n",
    "for i in range(100):\n",
    "    if y_test[i] in y_list:\n",
    "        continue\n",
    "    y_list.append(y_test[i])    \n",
    "    some_digit = X_test[i]\n",
    "    # some_digit_image = some_digit.reshape(28, 28)\n",
    "\n",
    "    plt.imshow(some_digit, cmap = \"binary\")\n",
    "    plt.axis(\"off\")\n",
    "    plt.show()\n",
    "    print(y_test[i], class_names[y_test[i]])"
   ]
  },
  {
   "cell_type": "code",
   "execution_count": 8,
   "id": "e5e76187",
   "metadata": {},
   "outputs": [
    {
     "data": {
      "text/plain": [
       "1    1135\n",
       "2    1032\n",
       "7    1028\n",
       "3    1010\n",
       "9    1009\n",
       "4     982\n",
       "0     980\n",
       "8     974\n",
       "6     958\n",
       "5     892\n",
       "dtype: int64"
      ]
     },
     "execution_count": 8,
     "metadata": {},
     "output_type": "execute_result"
    }
   ],
   "source": [
    "pd.Series(y_test).value_counts()"
   ]
  },
  {
   "cell_type": "code",
   "execution_count": 9,
   "id": "633ac960",
   "metadata": {},
   "outputs": [
    {
     "name": "stdout",
     "output_type": "stream",
     "text": [
      "1028 974 1009\n"
     ]
    }
   ],
   "source": [
    "# Picking only label (7, 8)->0 & (9)->1\n",
    "idx_7 = []\n",
    "idx_8 = []\n",
    "idx_9 = []\n",
    "for i in range(len(y_test)):\n",
    "    if list(y_test)[i] == 7:\n",
    "        idx_7.append(i)\n",
    "    if list(y_test)[i] == 8:\n",
    "        idx_8.append(i)\n",
    "    if list(y_test)[i] == 9:\n",
    "        idx_9.append(i)\n",
    "print(len(idx_7), len(idx_8), len(idx_9))"
   ]
  },
  {
   "cell_type": "code",
   "execution_count": 10,
   "id": "344dce59",
   "metadata": {},
   "outputs": [],
   "source": [
    "idx = idx_7[:110] + idx_8[:70] + idx_9[:20]\n",
    "idx.sort()"
   ]
  },
  {
   "cell_type": "code",
   "execution_count": 11,
   "id": "3711d6f0",
   "metadata": {},
   "outputs": [
    {
     "name": "stdout",
     "output_type": "stream",
     "text": [
      "(200, 28, 28, 3) (200,)\n"
     ]
    }
   ],
   "source": [
    "X = []\n",
    "y = []\n",
    "for i in idx:\n",
    "    X.append(X_test[i])\n",
    "    y.append(y_test[i])\n",
    "X = np.array(X)\n",
    "y = np.array(y)\n",
    "print(X.shape, y.shape)"
   ]
  },
  {
   "cell_type": "code",
   "execution_count": 12,
   "id": "0adf2625",
   "metadata": {},
   "outputs": [
    {
     "data": {
      "text/plain": [
       "7    110\n",
       "8     70\n",
       "9     20\n",
       "dtype: int64"
      ]
     },
     "execution_count": 12,
     "metadata": {},
     "output_type": "execute_result"
    }
   ],
   "source": [
    "pd.Series(y).value_counts()"
   ]
  },
  {
   "cell_type": "code",
   "execution_count": 13,
   "id": "efa8a2a0",
   "metadata": {},
   "outputs": [
    {
     "name": "stdout",
     "output_type": "stream",
     "text": [
      "0    180\n",
      "1     20\n",
      "dtype: int64\n"
     ]
    }
   ],
   "source": [
    "y9 = list(y)\n",
    "\n",
    "y_9 = []\n",
    "for i in range(len(y9)):\n",
    "    if y9[i] == 9:\n",
    "        y_9.append(1)\n",
    "    else:\n",
    "        y_9.append(0)\n",
    "y_9 = np.array(y_9)\n",
    "y = y_9\n",
    "print(pd.Series(y).value_counts())"
   ]
  },
  {
   "cell_type": "code",
   "execution_count": null,
   "id": "326e3915",
   "metadata": {},
   "outputs": [],
   "source": [
    "from sklearn.model_selection import StratifiedKFold\n",
    "skf = StratifiedKFold(n_splits=5, shuffle=True, random_state = 2)\n",
    "\n",
    "epochs = 20\n",
    "batch = 32\n",
    "\n",
    "from keras.callbacks import EarlyStopping, ModelCheckpoint"
   ]
  },
  {
   "cell_type": "code",
   "execution_count": null,
   "id": "3331025b",
   "metadata": {},
   "outputs": [],
   "source": []
  },
  {
   "cell_type": "markdown",
   "id": "e29667cb",
   "metadata": {},
   "source": [
    "## 2)Fashion MNIST"
   ]
  },
  {
   "cell_type": "code",
   "execution_count": null,
   "id": "e8adc451",
   "metadata": {},
   "outputs": [],
   "source": [
    "from keras.datasets.fashion_mnist import load_data\n",
    "\n",
    "(X_train, y_train), (X_test, y_test) = load_data()\n",
    "print(X_test.shape, y_test.shape)"
   ]
  },
  {
   "cell_type": "code",
   "execution_count": null,
   "id": "de70fa0b",
   "metadata": {},
   "outputs": [],
   "source": [
    "import matplotlib.pyplot as plt\n",
    "import numpy as np\n",
    "np.random.seed(0)\n",
    "\n",
    "class_names = ['T-shirt/top', 'Trouser', 'Pullover', 'Dress', 'Coat', 'Sandal', 'Shirt', 'Sneaker','Bag','Ankle boot']\n",
    "sample_size = 9\n",
    "random_idx = np.random.randint(10000, size=sample_size)\n",
    "\n",
    "plt.figure(figsize=(5,5))\n",
    "for i, idx in enumerate(random_idx):\n",
    "    plt.subplot(3,3,i+1)\n",
    "    plt.xticks([])\n",
    "    plt.yticks([])\n",
    "    plt.imshow(X_test[idx], cmap='gray')\n",
    "    plt.xlabel(class_names[y_test[idx]])\n",
    "plt.show()"
   ]
  },
  {
   "cell_type": "code",
   "execution_count": null,
   "id": "3beb3f82",
   "metadata": {},
   "outputs": [],
   "source": [
    "# ResNet에 맞도록 수정 (rgb 컬러도 필요한데, 데이터가 흑백데이터다)\n",
    "X_test = np.repeat(X_test[..., np.newaxis], 3, -1)\n",
    "X_test.shape"
   ]
  },
  {
   "cell_type": "code",
   "execution_count": null,
   "id": "5335c4e8",
   "metadata": {},
   "outputs": [],
   "source": [
    "import matplotlib as mpl\n",
    "import matplotlib.pyplot as plt\n",
    "import numpy as np\n",
    "\n",
    "class_names = ['T-shirt/top', 'Trouser', 'Pullover', 'Dress', 'Coat', 'Sandal', 'Shirt', 'Sneaker','Bag','Ankle boot']\n",
    "y_list = []\n",
    "\n",
    "for i in range(100):\n",
    "    if y_test[i] in y_list:\n",
    "        continue\n",
    "    y_list.append(y_test[i])    \n",
    "    some_digit = X_test[i]\n",
    "    # some_digit_image = some_digit.reshape(28, 28)\n",
    "\n",
    "    plt.imshow(some_digit, cmap = \"binary\")\n",
    "    plt.axis(\"off\")\n",
    "    plt.show()\n",
    "    print(y_test[i], class_names[y_test[i]])"
   ]
  },
  {
   "cell_type": "code",
   "execution_count": null,
   "id": "d4d2cb32",
   "metadata": {},
   "outputs": [],
   "source": [
    "pd.Series(y_test).value_counts()"
   ]
  },
  {
   "cell_type": "code",
   "execution_count": null,
   "id": "39eaa5cb",
   "metadata": {},
   "outputs": [],
   "source": [
    "# Picking only label (4, 6)->0 & 2->1\n",
    "idx_2 = []\n",
    "idx_4 = []\n",
    "# idx_6 = []\n",
    "for i in range(len(y_test)):\n",
    "    if list(y_test)[i] == 2:\n",
    "        idx_2.append(i)\n",
    "    if list(y_test)[i] == 4:\n",
    "        idx_4.append(i)\n",
    "#     if list(y_test)[i] == 6:\n",
    "#         idx_6.append(i)\n",
    "print(len(idx_2), len(idx_4)) #, len(idx_6))"
   ]
  },
  {
   "cell_type": "code",
   "execution_count": null,
   "id": "12d1a1a4",
   "metadata": {},
   "outputs": [],
   "source": [
    "idx = idx_2[:50] + idx_4[:150] # + idx_6[:110]\n",
    "idx.sort()"
   ]
  },
  {
   "cell_type": "code",
   "execution_count": null,
   "id": "dedd4f8f",
   "metadata": {},
   "outputs": [],
   "source": [
    "X = []\n",
    "y = []\n",
    "for i in idx:\n",
    "    X.append(X_test[i])\n",
    "    y.append(y_test[i])\n",
    "X = np.array(X)\n",
    "y = np.array(y)\n",
    "print(X.shape, y.shape)"
   ]
  },
  {
   "cell_type": "code",
   "execution_count": null,
   "id": "200a7515",
   "metadata": {},
   "outputs": [],
   "source": [
    "pd.Series(y).value_counts()"
   ]
  },
  {
   "cell_type": "code",
   "execution_count": null,
   "id": "fd0673a3",
   "metadata": {},
   "outputs": [],
   "source": [
    "y2 = list(y)\n",
    "\n",
    "y_2 = []\n",
    "for i in range(len(y2)):\n",
    "    if y2[i] == 2:\n",
    "        y_2.append(1)\n",
    "    else:\n",
    "        y_2.append(0)\n",
    "y_2 = np.array(y_2)\n",
    "y = y_2\n",
    "print(pd.Series(y).value_counts())"
   ]
  },
  {
   "cell_type": "code",
   "execution_count": null,
   "id": "0a7db872",
   "metadata": {},
   "outputs": [],
   "source": [
    "from sklearn.model_selection import StratifiedKFold\n",
    "skf = StratifiedKFold(n_splits=5, shuffle=True, random_state = 2)\n",
    "\n",
    "epochs = 20\n",
    "batch = 64\n",
    "\n",
    "from keras.callbacks import EarlyStopping, ModelCheckpoint"
   ]
  },
  {
   "cell_type": "code",
   "execution_count": null,
   "id": "8ea51380",
   "metadata": {},
   "outputs": [],
   "source": []
  },
  {
   "cell_type": "markdown",
   "id": "9bd5df84",
   "metadata": {},
   "source": [
    "## 3)CIFAR-10"
   ]
  },
  {
   "cell_type": "code",
   "execution_count": null,
   "id": "3a48887a",
   "metadata": {},
   "outputs": [],
   "source": [
    "from tensorflow.keras.datasets import cifar10\n",
    "\n",
    "(X_train, y_train), (X_test, y_test) = cifar10.load_data()\n",
    "print(X_test.shape, y_test.shape)"
   ]
  },
  {
   "cell_type": "code",
   "execution_count": null,
   "id": "ddcf43a6",
   "metadata": {},
   "outputs": [],
   "source": [
    "y_test = y_test.reshape(10000,)"
   ]
  },
  {
   "cell_type": "code",
   "execution_count": null,
   "id": "e5716691",
   "metadata": {},
   "outputs": [],
   "source": [
    "import matplotlib as mpl\n",
    "import matplotlib.pyplot as plt\n",
    "import numpy as np\n",
    "\n",
    "class_names = ['airplane', 'automobile', 'bird', 'cat', 'deer', 'dog', 'frog', 'horse','ship','truck']\n",
    "y_list = []\n",
    "\n",
    "for i in range(100):\n",
    "    if y_test[i] in y_list:\n",
    "        continue\n",
    "    y_list.append(y_test[i])    \n",
    "    some_digit = X_test[i]\n",
    "    # some_digit_image = some_digit.reshape(28, 28)\n",
    "\n",
    "    plt.imshow(some_digit, cmap = \"binary\")\n",
    "    plt.axis(\"off\")\n",
    "    plt.show()\n",
    "    print(y_test[i], class_names[y_test[i]])"
   ]
  },
  {
   "cell_type": "code",
   "execution_count": null,
   "id": "4e79e088",
   "metadata": {},
   "outputs": [],
   "source": [
    "pd.Series(y_test).value_counts()"
   ]
  },
  {
   "cell_type": "code",
   "execution_count": null,
   "id": "0a21b2a4",
   "metadata": {},
   "outputs": [],
   "source": [
    "# Picking only label (1, 7)->0 & 9->1\n",
    "idx_1 = []\n",
    "# idx_7 = []\n",
    "idx_9 = []\n",
    "for i in range(len(y_test)):\n",
    "    if list(y_test)[i] == 1:\n",
    "        idx_1.append(i)\n",
    "#     if list(y_test)[i] == 7:\n",
    "#         idx_7.append(i)\n",
    "    if list(y_test)[i] == 9:\n",
    "        idx_9.append(i)\n",
    "print(len(idx_1), len(idx_9))"
   ]
  },
  {
   "cell_type": "code",
   "execution_count": null,
   "id": "c7fb965d",
   "metadata": {},
   "outputs": [],
   "source": [
    "idx = idx_1[:160] + idx_9[:40]\n",
    "idx.sort()"
   ]
  },
  {
   "cell_type": "code",
   "execution_count": null,
   "id": "f5d718d0",
   "metadata": {},
   "outputs": [],
   "source": [
    "X = []\n",
    "y = []\n",
    "for i in idx:\n",
    "    X.append(X_test[i])\n",
    "    y.append(y_test[i])\n",
    "X = np.array(X)\n",
    "y = np.array(y)\n",
    "print(X.shape, y.shape)"
   ]
  },
  {
   "cell_type": "code",
   "execution_count": null,
   "id": "b83d0472",
   "metadata": {},
   "outputs": [],
   "source": [
    "pd.Series(y).value_counts()"
   ]
  },
  {
   "cell_type": "code",
   "execution_count": null,
   "id": "9ead4a00",
   "metadata": {},
   "outputs": [],
   "source": [
    "y9 = list(y)\n",
    "\n",
    "y_9 = []\n",
    "for i in range(len(y9)):\n",
    "    if y9[i] == 9:\n",
    "        y_9.append(1)\n",
    "    else:\n",
    "        y_9.append(0)\n",
    "y_9 = np.array(y_9)\n",
    "y = y_9\n",
    "print(pd.Series(y_9).value_counts())"
   ]
  },
  {
   "cell_type": "code",
   "execution_count": null,
   "id": "536e7018",
   "metadata": {},
   "outputs": [],
   "source": [
    "from sklearn.model_selection import StratifiedKFold\n",
    "skf = StratifiedKFold(n_splits=5, shuffle=True, random_state = 2)\n",
    "\n",
    "epochs = 20\n",
    "batch = 32\n",
    "\n",
    "from keras.callbacks import EarlyStopping, ModelCheckpoint"
   ]
  },
  {
   "cell_type": "code",
   "execution_count": null,
   "id": "008cd868",
   "metadata": {},
   "outputs": [],
   "source": []
  },
  {
   "cell_type": "markdown",
   "id": "c6acc90f",
   "metadata": {},
   "source": [
    "# Step2: Select One Architecture"
   ]
  },
  {
   "cell_type": "code",
   "execution_count": null,
   "id": "ef7fe33b",
   "metadata": {},
   "outputs": [],
   "source": []
  },
  {
   "cell_type": "markdown",
   "id": "a293bc29",
   "metadata": {},
   "source": [
    "## 1)ResNet50"
   ]
  },
  {
   "cell_type": "code",
   "execution_count": 31,
   "id": "bde2d1b9",
   "metadata": {},
   "outputs": [],
   "source": [
    "# ResNet\n",
    "import tensorflow as tf\n",
    "import numpy as np\n",
    "from keras import optimizers\n",
    "\n",
    "from tensorflow.keras.applications.resnet50 import preprocess_input, decode_predictions\n",
    "from tensorflow.keras.applications.resnet50 import ResNet50\n",
    "\n",
    "from tensorflow.keras.preprocessing import image\n",
    "\n",
    "from tensorflow.keras.layers import Dense, GlobalAveragePooling2D, Conv2D, MaxPooling2D, Flatten\n",
    "from tensorflow.keras.models import Model, Sequential\n",
    "\n",
    "def create_model():\n",
    "    # Remove \"Fully Connected layer\"\n",
    "    resnet = ResNet50(weights='imagenet', include_top=False)\n",
    "    # Parameter update\n",
    "    for layer in resnet.layers:\n",
    "        layer.trainable = True\n",
    "    # Add \"Fully connected layer\" for binary classification\n",
    "    r = resnet.output\n",
    "    r = GlobalAveragePooling2D()(r)\n",
    "    r = Dense(16, activation='relu')(r)\n",
    "    predictions = Dense(1, activation='sigmoid')(r)\n",
    "    model = Model(resnet.input, predictions)\n",
    "    return model"
   ]
  },
  {
   "cell_type": "code",
   "execution_count": 1,
   "id": "9399500f",
   "metadata": {
    "scrolled": true
   },
   "outputs": [],
   "source": [
    "mse_acc = []\n",
    "mse_f1 = []\n",
    "mse_gmean = []\n",
    "mse_bacc = []\n",
    "mse_pre = []\n",
    "mse_rec = []\n",
    "mse_spe = []\n",
    "\n",
    "for i in range(5):\n",
    "    print('#'*50,'{0}th repeat'.format(i+1),'#'*50)\n",
    "    list_acc, list_f1, list_gmean, list_bacc, list_pre, list_rec, list_spe = make_lists()\n",
    "\n",
    "    n_iter=0\n",
    "    ###################### BCE ##############################\n",
    "    for train_index, test_index in skf.split(X, y):\n",
    "        n_iter += 1\n",
    "        X_train = X[train_index]\n",
    "        y_train= y[train_index]\n",
    "        X_test = X[test_index]\n",
    "        y_test= y[test_index]\n",
    "#         print('#'*50,'{0}th CV'.format(n_iter),'#'*50)\n",
    "        X_train = np.array(X_train)\n",
    "        y_train = np.array(y_train)\n",
    "        y_train = y_train.astype(float)\n",
    "        X_test = np.array(X_test)\n",
    "        y_test = np.array(y_test)\n",
    "        y_test = y_test.astype(float)\n",
    "\n",
    "        model = create_model()\n",
    "        early_stopping = EarlyStopping(monitor='loss')\n",
    "    #     check_point = ModelCheckpoint('best_model.h5', monitor=\"val_loss\", save_best_only=True, save_weights_only=True)\n",
    "        opt = optimizers.Adam(learning_rate = 0.0003)\n",
    "        model.compile(optimizer=opt, loss=MSE, metrics=['accuracy'])\n",
    "        history = model.fit(X_train, y_train, validation_data=(X_test, y_test), epochs=epochs, verbose=0, batch_size = batch, )\n",
    "                            #callbacks=[early_stopping]) #, check_point])\n",
    "#         plt.plot(history.history['loss'], label='loss')\n",
    "#         plt.ylim([0, 1])\n",
    "#         plt.xlabel('Iteration',fontweight=\"bold\",fontsize = 15)\n",
    "#         plt.ylabel('Loss',fontweight=\"bold\",fontsize = 15)\n",
    "#         plt.title(\"Cost Function\",fontweight=\"bold\",fontsize = 20)\n",
    "#         plt.legend()\n",
    "#         plt.show()\n",
    "        predicted = []\n",
    "    #     model.load_weights('best_model.h5')  # Best Model by Check_Point\n",
    "        result = model.predict(X_test)\n",
    "        for i in range(X_test.shape[0]):\n",
    "            if result[i] <= 0.5:\n",
    "                predicted.append(0)\n",
    "            else:\n",
    "                predicted.append(1)\n",
    "        get_results(y_test, predicted)\n",
    "    print(\"Acc:{}\\nF1:{}\\nGM:{}\\nBA:{}\\nPRE:{}\\nREC:{}\\nSPE:{}\\n\".format(np.mean(list_acc),np.mean(list_f1),np.mean(list_gmean),\n",
    "                                                                         np.mean(list_bacc),np.mean(list_pre),np.mean(list_rec),\n",
    "                                                                         np.mean(list_spe)))     \n",
    "    mse_acc.append(np.mean(list_acc))\n",
    "    mse_f1.append(np.mean(list_f1))\n",
    "    mse_gmean.append(np.mean(list_gmean))\n",
    "    mse_bacc.append(np.mean(list_bacc))\n",
    "    mse_pre.append(np.mean(list_pre))\n",
    "    mse_rec.append(np.mean(list_rec))\n",
    "    mse_spe.append(np.mean(list_spe))\n",
    "               \n",
    "res['MSE'] = [np.mean(mse_acc), np.mean(mse_f1), np.mean(mse_gmean), np.mean(mse_bacc), \n",
    "              np.mean(mse_pre), np.mean(mse_rec), np.mean(mse_spe)]\n",
    "res  "
   ]
  },
  {
   "cell_type": "code",
   "execution_count": 14,
   "id": "90d9b5e2",
   "metadata": {},
   "outputs": [],
   "source": [
    "print(\"AC:\", np.round(np.mean(mse_acc),4),'±',np.round(np.std(mse_acc),4))\n",
    "print(\"F1:\", np.round(np.mean(mse_f1),4),'±',np.round(np.std(mse_f1),4))\n",
    "print(\"GM:\", np.round(np.mean(mse_gmean),4),'±',np.round(np.std(mse_gmean),4))\n",
    "print(\"BA:\", np.round(np.mean(mse_bacc),4),'±',np.round(np.std(mse_bacc),4))\n",
    "print(\"PRE:\", np.round(np.mean(mse_pre),4),'±',np.round(np.std(mse_pre),4))\n",
    "print(\"REC:\", np.round(np.mean(mse_rec),4),'±',np.round(np.std(mse_rec),4))\n",
    "print(\"SPE:\", np.round(np.mean(mse_spe),4),'±',np.round(np.std(mse_spe),4))"
   ]
  },
  {
   "cell_type": "code",
   "execution_count": null,
   "id": "837ca47f",
   "metadata": {},
   "outputs": [],
   "source": [
    "# For each loss, do above\n",
    "# LOSS = [MSE, BCE, WBCE, Pure_Fbeta, Any_Fbeta, WBCEFL, SPLFL, \n",
    "#         Pure_Gmean, Any_Gmean, WBCEGL, SPLGL, \n",
    "#         Pure_BAccu, Any_BAccu, WBCEBL, SPLBL ]"
   ]
  },
  {
   "cell_type": "code",
   "execution_count": 15,
   "id": "edee00e3",
   "metadata": {},
   "outputs": [],
   "source": [
    "# Final Results\n",
    "res"
   ]
  },
  {
   "cell_type": "code",
   "execution_count": null,
   "id": "60eb5e3c",
   "metadata": {},
   "outputs": [],
   "source": []
  },
  {
   "cell_type": "markdown",
   "id": "27e07d3e",
   "metadata": {},
   "source": [
    "## 2) ViT"
   ]
  },
  {
   "cell_type": "code",
   "execution_count": null,
   "id": "8d7f6da9",
   "metadata": {},
   "outputs": [],
   "source": [
    "# transformer\n",
    "from tensorflow import keras\n",
    "from tensorflow.keras import layers\n",
    "import tensorflow_addons as tfa\n",
    "\n",
    "num_classes = 1\n",
    "input_shape = (28, 28, 3)\n",
    "\n",
    "image_size = 54  # We'll resize input images to this size\n",
    "patch_size = 6  # Size of the patches to be extract from the input images\n",
    "num_patches = (image_size // patch_size) ** 2\n",
    "projection_dim = 64\n",
    "num_heads = 4\n",
    "transformer_units = [\n",
    "    projection_dim * 2,\n",
    "    projection_dim,\n",
    "]  # Size of the transformer layers\n",
    "transformer_layers = 8\n",
    "mlp_head_units = [2048, 1024]  # Size of the dense layers of the final classifier\n",
    "\n",
    "data_augmentation = keras.Sequential(\n",
    "    [\n",
    "        layers.Normalization(),\n",
    "        layers.Resizing(image_size, image_size),\n",
    "        layers.RandomFlip(\"horizontal\"),\n",
    "        layers.RandomRotation(factor=0.02),\n",
    "        layers.RandomZoom(\n",
    "            height_factor=0.2, width_factor=0.2\n",
    "        ),\n",
    "    ],\n",
    "    name=\"data_augmentation\",\n",
    ")\n",
    "\n",
    "def mlp(x, hidden_units, dropout_rate):\n",
    "    for units in hidden_units:\n",
    "        x = layers.Dense(units, activation=tf.nn.gelu)(x)\n",
    "        x = layers.Dropout(dropout_rate)(x)\n",
    "    return x\n",
    "\n",
    "class Patches(layers.Layer):\n",
    "    def __init__(self, patch_size):\n",
    "        super().__init__()\n",
    "        self.patch_size = patch_size\n",
    "\n",
    "    def call(self, images):\n",
    "        batch_size = tf.shape(images)[0]\n",
    "        patches = tf.image.extract_patches(\n",
    "            images=images,\n",
    "            sizes=[1, self.patch_size, self.patch_size, 1],\n",
    "            strides=[1, self.patch_size, self.patch_size, 1],\n",
    "            rates=[1, 1, 1, 1],\n",
    "            padding=\"VALID\",\n",
    "        )\n",
    "        patch_dims = patches.shape[-1]\n",
    "        patches = tf.reshape(patches, [batch_size, -1, patch_dims])\n",
    "        return patches\n",
    "    \n",
    "class PatchEncoder(layers.Layer):\n",
    "    def __init__(self, num_patches, projection_dim):\n",
    "        super().__init__()\n",
    "        self.num_patches = num_patches\n",
    "        self.projection = layers.Dense(units=projection_dim)\n",
    "        self.position_embedding = layers.Embedding(\n",
    "            input_dim=num_patches, output_dim=projection_dim\n",
    "        )\n",
    "\n",
    "    def call(self, patch):\n",
    "        positions = tf.range(start=0, limit=self.num_patches, delta=1)\n",
    "        encoded = self.projection(patch) + self.position_embedding(positions)\n",
    "        return encoded\n",
    "    \n",
    "def create_vit_classifier():\n",
    "    inputs = layers.Input(shape=input_shape)\n",
    "    # Augment data.\n",
    "    augmented = data_augmentation(inputs)\n",
    "    # Create patches.\n",
    "    patches = Patches(patch_size)(augmented)\n",
    "    # Encode patches.\n",
    "    encoded_patches = PatchEncoder(num_patches, projection_dim)(patches)\n",
    "\n",
    "    # Create multiple layers of the Transformer block.\n",
    "    for _ in range(transformer_layers):\n",
    "        # Layer normalization 1.\n",
    "        x1 = layers.LayerNormalization(epsilon=1e-6)(encoded_patches)\n",
    "        # Create a multi-head attention layer.\n",
    "        attention_output = layers.MultiHeadAttention(\n",
    "            num_heads=num_heads, key_dim=projection_dim, dropout=0\n",
    "        )(x1, x1)\n",
    "        # Skip connection 1.\n",
    "        x2 = layers.Add()([attention_output, encoded_patches])\n",
    "        # Layer normalization 2.\n",
    "        x3 = layers.LayerNormalization(epsilon=1e-6)(x2)\n",
    "        # MLP.\n",
    "        x3 = mlp(x3, hidden_units=transformer_units, dropout_rate=0)\n",
    "        # Skip connection 2.\n",
    "        encoded_patches = layers.Add()([x3, x2])\n",
    "\n",
    "    # Create a [batch_size, projection_dim] tensor.\n",
    "    representation = layers.LayerNormalization(epsilon=1e-6)(encoded_patches)\n",
    "    representation = layers.Flatten()(representation)\n",
    "    representation = layers.Dropout(0)(representation)\n",
    "    # Add MLP.\n",
    "    features = mlp(representation, hidden_units=mlp_head_units, dropout_rate=0)\n",
    "    # Classify outputs.\n",
    "    logits = layers.Dense(num_classes, activation='sigmoid')(features)\n",
    "    # Create the Keras model.\n",
    "    model = keras.Model(inputs=inputs, outputs=logits)\n",
    "    return model"
   ]
  },
  {
   "cell_type": "code",
   "execution_count": null,
   "id": "8075aed6",
   "metadata": {},
   "outputs": [],
   "source": [
    "mse_acc = []\n",
    "mse_f1 = []\n",
    "mse_gmean = []\n",
    "mse_bacc = []\n",
    "mse_pre = []\n",
    "mse_rec = []\n",
    "mse_spe = []\n",
    "\n",
    "for i in range(5):\n",
    "    print('#'*50,'{0}th repeat'.format(i+1),'#'*50)\n",
    "    list_acc, list_f1, list_gmean, list_bacc, list_pre, list_rec, list_spe = make_lists()\n",
    "    \n",
    "    n_iter=0\n",
    "    ###################### MLP (sigmoid // BCE) ##############################\n",
    "    for train_index, test_index in skf.split(X, y):\n",
    "        n_iter += 1\n",
    "        X_train = X[train_index]\n",
    "        y_train= y[train_index]\n",
    "        X_test = X[test_index]\n",
    "        y_test= y[test_index]\n",
    "#         print('#'*50,'{0}th CV'.format(n_iter),'#'*50)\n",
    "    #     X_train = np.array(X_train)\n",
    "    #     y_train = np.array(y_train)\n",
    "        y_train = y_train.astype(float)\n",
    "    #     X_test = np.array(X_test)\n",
    "    #     y_test = np.array(y_test)\n",
    "        y_test = y_test.astype(float)\n",
    "\n",
    "        model = create_vit_classifier()\n",
    "        early_stopping = EarlyStopping(monitor='loss', patience=0)\n",
    "    #     check_point = ModelCheckpoint('best_model1.h5', monitor=\"val_loss\", save_best_only=True, save_weights_only=True)\n",
    "        data_augmentation.layers[0].adapt(X_train)\n",
    "        opt = tfa.optimizers.AdamW(learning_rate=0.00001, weight_decay=decay)\n",
    "        model.compile(optimizer=opt, loss=MSE, metrics=['accuracy']) \n",
    "        history = model.fit(X_train, y_train, validation_data=(X_test, y_test), verbose=0, epochs=epochs, batch_size = batch,  ) \n",
    "                            #callbacks=[early_stopping]) #, check_point])\n",
    "#         plt.plot(history.history['loss'], label='loss')\n",
    "#         plt.ylim([0, 1])\n",
    "#         plt.xlabel('Iteration',fontweight=\"bold\",fontsize = 15)\n",
    "#         plt.ylabel('Loss',fontweight=\"bold\",fontsize = 15)\n",
    "#         plt.title(\"Cost Function\",fontweight=\"bold\",fontsize = 20)\n",
    "#         plt.legend()\n",
    "#         plt.show()\n",
    "        predicted = []\n",
    "    #     model.load_weights('best_model1.h5')  # Best Model by Check_Point\n",
    "        result = model.predict(X_test)\n",
    "        for i in range(X_test.shape[0]):\n",
    "            if result[i] <= 0.5:\n",
    "                predicted.append(0)\n",
    "            else:\n",
    "                predicted.append(1)\n",
    "        get_results(y_test, predicted)\n",
    "    print(\"Acc:{}\\nF1:{}\\nGM:{}\\nBA:{}\\nPRE:{}\\nREC:{}\\nSPE:{}\\n\".format(np.mean(list_acc),np.mean(list_f1),np.mean(list_gmean),\n",
    "                                                                         np.mean(list_bacc),np.mean(list_pre),np.mean(list_rec),\n",
    "                                                                         np.mean(list_spe)))     \n",
    "    mse_acc.append(np.mean(list_acc))\n",
    "    mse_f1.append(np.mean(list_f1))\n",
    "    mse_gmean.append(np.mean(list_gmean))\n",
    "    mse_bacc.append(np.mean(list_bacc))\n",
    "    mse_pre.append(np.mean(list_pre))\n",
    "    mse_rec.append(np.mean(list_rec))\n",
    "    mse_spe.append(np.mean(list_spe))\n",
    "    \n",
    "res['MSE'] = [np.mean(mse_acc), np.mean(mse_f1), np.mean(mse_gmean), np.mean(mse_bacc), \n",
    "              np.mean(mse_pre), np.mean(mse_rec), np.mean(mse_spe)]\n",
    "res  "
   ]
  },
  {
   "cell_type": "code",
   "execution_count": null,
   "id": "dff0e1e4",
   "metadata": {},
   "outputs": [],
   "source": [
    "print(\"AC:\", np.round(np.mean(mse_acc),4),'±',np.round(np.std(mse_acc),4))\n",
    "print(\"F1:\", np.round(np.mean(mse_f1),4),'±',np.round(np.std(mse_f1),4))\n",
    "print(\"GM:\", np.round(np.mean(mse_gmean),4),'±',np.round(np.std(mse_gmean),4))\n",
    "print(\"BA:\", np.round(np.mean(mse_bacc),4),'±',np.round(np.std(mse_bacc),4))\n",
    "print(\"PRE:\", np.round(np.mean(mse_pre),4),'±',np.round(np.std(mse_pre),4))\n",
    "print(\"REC:\", np.round(np.mean(mse_rec),4),'±',np.round(np.std(mse_rec),4))\n",
    "print(\"SPE:\", np.round(np.mean(mse_spe),4),'±',np.round(np.std(mse_spe),4))"
   ]
  },
  {
   "cell_type": "code",
   "execution_count": null,
   "id": "e7aff8ba",
   "metadata": {},
   "outputs": [],
   "source": [
    "# For each loss, do above\n",
    "# LOSS = [MSE, BCE, WBCE, Pure_Fbeta, Any_Fbeta, WBCEFL, SPLFL, \n",
    "#         Pure_Gmean, Any_Gmean, WBCEGL, SPLGL, \n",
    "#         Pure_BAccu, Any_BAccu, WBCEBL, SPLBL ]"
   ]
  },
  {
   "cell_type": "code",
   "execution_count": null,
   "id": "1d1e287a",
   "metadata": {},
   "outputs": [],
   "source": [
    "# Final Results\n",
    "res"
   ]
  },
  {
   "cell_type": "code",
   "execution_count": null,
   "id": "011dfe3a",
   "metadata": {},
   "outputs": [],
   "source": []
  },
  {
   "cell_type": "code",
   "execution_count": null,
   "id": "8050d40a",
   "metadata": {},
   "outputs": [],
   "source": []
  },
  {
   "cell_type": "code",
   "execution_count": null,
   "id": "17dabd2f",
   "metadata": {},
   "outputs": [],
   "source": []
  },
  {
   "cell_type": "code",
   "execution_count": null,
   "id": "bc48db5d",
   "metadata": {},
   "outputs": [],
   "source": []
  },
  {
   "cell_type": "code",
   "execution_count": null,
   "id": "fd64d1e8",
   "metadata": {},
   "outputs": [],
   "source": []
  },
  {
   "cell_type": "code",
   "execution_count": null,
   "id": "b6a4bbc9",
   "metadata": {},
   "outputs": [],
   "source": []
  },
  {
   "cell_type": "code",
   "execution_count": null,
   "id": "ce06d5ac",
   "metadata": {},
   "outputs": [],
   "source": []
  },
  {
   "cell_type": "code",
   "execution_count": null,
   "id": "584ea7bb",
   "metadata": {},
   "outputs": [],
   "source": []
  },
  {
   "cell_type": "code",
   "execution_count": null,
   "id": "851de302",
   "metadata": {},
   "outputs": [],
   "source": []
  }
 ],
 "metadata": {
  "kernelspec": {
   "display_name": "Python 3 (ipykernel)",
   "language": "python",
   "name": "python3"
  },
  "language_info": {
   "codemirror_mode": {
    "name": "ipython",
    "version": 3
   },
   "file_extension": ".py",
   "mimetype": "text/x-python",
   "name": "python",
   "nbconvert_exporter": "python",
   "pygments_lexer": "ipython3",
   "version": "3.8.0"
  }
 },
 "nbformat": 4,
 "nbformat_minor": 5
}
